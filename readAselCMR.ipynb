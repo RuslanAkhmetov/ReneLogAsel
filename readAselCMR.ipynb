{
 "cells": [
  {
   "cell_type": "code",
   "execution_count": 7,
   "metadata": {},
   "outputs": [
    {
     "ename": "SyntaxError",
     "evalue": "(unicode error) 'unicodeescape' codec can't decode bytes in position 2-3: truncated \\UXXXXXXXX escape (676354397.py, line 15)",
     "output_type": "error",
     "traceback": [
      "\u001b[1;36m  Cell \u001b[1;32mIn[7], line 15\u001b[1;36m\u001b[0m\n\u001b[1;33m    def extract(path='C:\\Users\\1\\PythonApp\\ReneLogAsel\\test'):\u001b[0m\n\u001b[1;37m                     ^\u001b[0m\n\u001b[1;31mSyntaxError\u001b[0m\u001b[1;31m:\u001b[0m (unicode error) 'unicodeescape' codec can't decode bytes in position 2-3: truncated \\UXXXXXXXX escape\n"
     ]
    }
   ],
   "source": [
    "#Extracting CMR and Invoice pdf files and save \n",
    "#Отправителя\n",
    "#Получателя\n",
    "#Переврзчика\n",
    "#Автомашины\n",
    "#Таможни назначения\n",
    "#Таможня отправления берем Верхний Ларс код 10803040\n",
    "\n",
    "import sys\n",
    "sys.path.append('../PDF_Text_Extraction')\n",
    "from ..PDF_Text_Extraction import extract_pdf_file\n",
    "from ..PDF_Text_Extraction import save_result_to_csv\n",
    "import os\n",
    "\n",
    "def extract(path='C:\\Users\\1\\PythonApp\\ReneLogAsel\\test'):\n",
    "    for file in os.listdir(path):\n",
    "        if str(file).find('.pdf') > 0:\n",
    "            pd_file_path = path + '/' + str(file)\n",
    "            text_on_page = extract_pdf_file(pd_file_path)\n",
    "            save_result_to_csv (text_on_page)\n",
    "\n",
    "\n",
    "\n",
    "\n",
    "if __name__ == '__main__':\n",
    "    path='C:\\Users\\1\\PythonApp\\ReneLogAsel\\test'\n",
    "    #path = sys.argv[1]\n",
    "    extract(path)\n",
    "\n"
   ]
  }
 ],
 "metadata": {
  "kernelspec": {
   "display_name": "Python 3",
   "language": "python",
   "name": "python3"
  },
  "language_info": {
   "codemirror_mode": {
    "name": "ipython",
    "version": 3
   },
   "file_extension": ".py",
   "mimetype": "text/x-python",
   "name": "python",
   "nbconvert_exporter": "python",
   "pygments_lexer": "ipython3",
   "version": "3.12.3"
  }
 },
 "nbformat": 4,
 "nbformat_minor": 2
}
